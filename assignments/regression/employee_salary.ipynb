{
 "cells": [
  {
   "cell_type": "markdown",
   "metadata": {},
   "source": [
    "## Employee Salary Prediction\n",
    "\n",
    "This project deals with predicting salary given years of experience. Here is a link to a detailed description of the data set. \n",
    "\n",
    "### Instructions\n",
    "* There follows a series of questions and tasks.\n",
    "* Answer the questions by double clicking on the cell right after the question and type in your answer.\n",
    "* Wherever you see a comment that says \"TODO\", you will have to fill it in with code as guided by the comment.\n",
    "\n"
   ]
  },
  {
   "cell_type": "markdown",
   "metadata": {},
   "source": [
    "**Question**: Enter the names of the names of the students in your team."
   ]
  },
  {
   "cell_type": "markdown",
   "metadata": {},
   "source": [
    "**Answer**: "
   ]
  },
  {
   "cell_type": "markdown",
   "metadata": {},
   "source": [
    "#### Clone the workshop repository to access the data sets"
   ]
  },
  {
   "cell_type": "code",
   "execution_count": null,
   "metadata": {
    "collapsed": false
   },
   "outputs": [],
   "source": [
    "!git clone https://github.com/KshitijKarthick/reva_ml_workshop"
   ]
  },
  {
   "cell_type": "markdown",
   "metadata": {},
   "source": [
    "### Import all the libraries that you will use for the task"
   ]
  },
  {
   "cell_type": "code",
   "execution_count": null,
   "metadata": {
    "collapsed": true
   },
   "outputs": [],
   "source": [
    "# Import all dependencies required for the problem.\n",
    "from __future__ import print_function\n",
    "from plotly.offline import iplot, init_notebook_mode\n",
    "\n",
    "import numpy as np\n",
    "import pandas as pd\n",
    "import plotly.graph_objs as go\n",
    "\n",
    "from sklearn import preprocessing\n",
    "from sklearn.linear_model import LinearRegression\n",
    "from sklearn.model_selection import train_test_split"
   ]
  },
  {
   "cell_type": "code",
   "execution_count": null,
   "metadata": {
    "collapsed": false
   },
   "outputs": [],
   "source": [
    "# Set a Seed for random number generation for reproducible results\n",
    "init_notebook_mode(connected=True)\n",
    "RANDOM_SEED = 42\n",
    "np.random.seed(RANDOM_SEED)"
   ]
  },
  {
   "cell_type": "markdown",
   "metadata": {},
   "source": [
    "## Load and preview the Dataset\n",
    "\n",
    "* Read the dataset from the required format.\n",
    "* Preview the dataset which is loaded"
   ]
  },
  {
   "cell_type": "code",
   "execution_count": null,
   "metadata": {
    "collapsed": false
   },
   "outputs": [],
   "source": [
    "df = pd.read_csv('../../data/assignment/salary_dataset.csv')\n",
    "# TODO: use df.head() to display the first 5 rows of the data set"
   ]
  },
  {
   "cell_type": "markdown",
   "metadata": {},
   "source": [
    "## Split the dataset into \"what needs to be predicted\", \"what it should learn from\"\n",
    "* \"What needs to be predicted\" - Dependent Variables, x\n",
    "* \"What it should learn from\" - Independent Variables, y"
   ]
  },
  {
   "cell_type": "code",
   "execution_count": null,
   "metadata": {
    "collapsed": true
   },
   "outputs": [],
   "source": [
    "X = df.loc[:,:'YearsExperience']\n",
    "y = df['Salary']"
   ]
  },
  {
   "cell_type": "markdown",
   "metadata": {},
   "source": [
    "## Split the dataset into training, testing set\n",
    "* Training dataset is for the Machine learning model to learn from\n",
    "* Testing dataset is for testing how accurate our Machine learning model will perform on unseen test dataset."
   ]
  },
  {
   "cell_type": "code",
   "execution_count": null,
   "metadata": {
    "collapsed": false
   },
   "outputs": [],
   "source": [
    "# Split the dataset into train and test, for learning from one dataset and test it on the other.\n",
    "X_train, X_test, y_train, y_test = \n",
    "# TODO: complete the above line of code by using the train_test_split function from sklearn to split the data set into training and testing datasets\n",
    "# use test_size=0.2\n",
    "# Find an example from here: \n",
    "# http://scikit-learn.org/stable/modules/generated/sklearn.model_selection.train_test_split.html"
   ]
  },
  {
   "cell_type": "markdown",
   "metadata": {},
   "source": [
    "## Scaling the dataset\n",
    "* Scale all features, in this case 1 single feature as years of experience\n",
    "* Done to ensure all features are at the same scale, and 1 feature does not impact the algorithm diffently because of its range of values."
   ]
  },
  {
   "cell_type": "code",
   "execution_count": null,
   "metadata": {
    "collapsed": true
   },
   "outputs": [],
   "source": [
    "scaler = preprocessing.StandardScaler()\n",
    "X_train_scaled = scaler.fit_transform(X_train)\n",
    "X_test_scaled = scaler.transform(X_test)"
   ]
  },
  {
   "cell_type": "markdown",
   "metadata": {},
   "source": [
    "### Train a regression model "
   ]
  },
  {
   "cell_type": "code",
   "execution_count": null,
   "metadata": {
    "collapsed": false
   },
   "outputs": [],
   "source": [
    "regressor = LinearRegression()\n",
    "regressor.fit(X_train_scaled, y_train)"
   ]
  },
  {
   "cell_type": "markdown",
   "metadata": {},
   "source": [
    "## Evaluate the model for accuracy\n",
    "* Obtain Root Mean Squared Error\n",
    "* Smaller the Root Mean Squared Error the better."
   ]
  },
  {
   "cell_type": "code",
   "execution_count": null,
   "metadata": {
    "collapsed": false
   },
   "outputs": [],
   "source": [
    "from math import sqrt\n",
    "from sklearn.metrics import mean_squared_error\n",
    "print(\"Root Mean Squared Error Linear Regression Model: {:.2f}\".format(\n",
    "    sqrt(mean_squared_error(y_test.values, regressor.predict(X_test_scaled)))\n",
    "))"
   ]
  },
  {
   "cell_type": "code",
   "execution_count": null,
   "metadata": {
    "collapsed": false
   },
   "outputs": [],
   "source": [
    "def build_graph(column_interested, output_column):\n",
    "    plot1 = go.Scatter(\n",
    "        x = X_train[column_interested].values,\n",
    "        y = y_train.values,\n",
    "        name='Training Data',\n",
    "        mode='markers',\n",
    "        connectgaps=True\n",
    "    )\n",
    "\n",
    "    plot2 = go.Scatter(\n",
    "        x = X_train[column_interested].values,\n",
    "        y = regressor.predict(X_train_scaled),\n",
    "        name='Model Prediction',\n",
    "        connectgaps=True\n",
    "    )\n",
    "\n",
    "    fig = dict(data=[plot1, plot2], layout=dict(\n",
    "        title='{} vs {}'.format(output_column, column_interested),\n",
    "        xaxis=dict(title=column_interested),\n",
    "        yaxis=dict(title=output_column)))\n",
    "    return fig\n",
    "\n",
    "iplot(build_graph('YearsExperience', 'Salary'))"
   ]
  },
  {
   "cell_type": "markdown",
   "metadata": {},
   "source": [
    "* Select one of the below Machine Learning Models\n",
    "    * http://scikit-learn.org/stable/modules/ensemble.html#regression\n",
    "    * http://scikit-learn.org/stable/modules/generated/sklearn.neural_network.MLPRegressor.html#sklearn.neural_network.MLPRegressor\n",
    "    * http://scikit-learn.org/stable/modules/tree.html#regression\n",
    "    * http://scikit-learn.org/stable/modules/generated/sklearn.linear_model.SGDRegressor.html#sklearn.linear_model.SGDRegressor\n",
    "    * http://scikit-learn.org/stable/modules/generated/sklearn.svm.LinearSVR.html#sklearn.svm.LinearSVR\n",
    "    * http://scikit-learn.org/stable/modules/linear_model.html#ridge-regression\n",
    "\n",
    "* Build a model to reduce the Root Mean Squared Error further "
   ]
  },
  {
   "cell_type": "code",
   "execution_count": null,
   "metadata": {
    "collapsed": true
   },
   "outputs": [],
   "source": [
    "## TODO"
   ]
  },
  {
   "cell_type": "markdown",
   "metadata": {},
   "source": [
    "### What to do after completing the assignment\n",
    "* Press ctrl+s to save your progress\n",
    "* Click on 'share' at the top right corner.\n",
    "* Enter these two email ids *upman16@gmail.com* and *kshitij.karthick@gmail.com*\n",
    "* Click on done."
   ]
  }
 ],
 "metadata": {
  "kernelspec": {
   "display_name": "Python 3",
   "language": "python",
   "name": "python3"
  },
  "language_info": {
   "codemirror_mode": {
    "name": "ipython",
    "version": 3
   },
   "file_extension": ".py",
   "mimetype": "text/x-python",
   "name": "python",
   "nbconvert_exporter": "python",
   "pygments_lexer": "ipython3",
   "version": "3.5.2"
  }
 },
 "nbformat": 4,
 "nbformat_minor": 2
}
