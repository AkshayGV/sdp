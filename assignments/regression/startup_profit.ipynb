{
 "cells": [
  {
   "cell_type": "markdown",
   "metadata": {},
   "source": [
    "## Regression Template\n",
    "\n",
    "* Obtain all the required libraries for basic regression template.\n",
    "* Libraries for\n",
    "    * Data Analysis - Numpy, Pandas\n",
    "    * Machine Learning Libraries - Sklearn\n",
    "    * Data Visualization - Plotly"
   ]
  },
  {
   "cell_type": "code",
   "execution_count": 1,
   "metadata": {},
   "outputs": [],
   "source": [
    "# Import all dependencies required for the problem.\n",
    "from __future__ import print_function\n",
    "from plotly.offline import iplot, init_notebook_mode\n",
    "\n",
    "import numpy as np\n",
    "import pandas as pd\n",
    "import plotly.graph_objs as go\n",
    "\n",
    "from sklearn import preprocessing\n",
    "from sklearn.linear_model import LinearRegression\n",
    "from sklearn.model_selection import train_test_split"
   ]
  },
  {
   "cell_type": "code",
   "execution_count": 2,
   "metadata": {},
   "outputs": [
    {
     "data": {
      "text/html": [
       "<script>requirejs.config({paths: { 'plotly': ['https://cdn.plot.ly/plotly-latest.min']},});if(!window.Plotly) {{require(['plotly'],function(plotly) {window.Plotly=plotly;});}}</script>"
      ],
      "text/vnd.plotly.v1+html": [
       "<script>requirejs.config({paths: { 'plotly': ['https://cdn.plot.ly/plotly-latest.min']},});if(!window.Plotly) {{require(['plotly'],function(plotly) {window.Plotly=plotly;});}}</script>"
      ]
     },
     "metadata": {},
     "output_type": "display_data"
    }
   ],
   "source": [
    "# Set a Seed for random number generation for reproducible results\n",
    "init_notebook_mode(connected=True)\n",
    "RANDOM_SEED = 42\n",
    "np.random.seed(RANDOM_SEED)"
   ]
  },
  {
   "cell_type": "markdown",
   "metadata": {},
   "source": [
    "## Load and preview the Dataset\n",
    "\n",
    "* Read the dataset from the required format.\n",
    "* Preview the dataset which is loaded"
   ]
  },
  {
   "cell_type": "code",
   "execution_count": 16,
   "metadata": {},
   "outputs": [
    {
     "data": {
      "text/html": [
       "<div>\n",
       "<style scoped>\n",
       "    .dataframe tbody tr th:only-of-type {\n",
       "        vertical-align: middle;\n",
       "    }\n",
       "\n",
       "    .dataframe tbody tr th {\n",
       "        vertical-align: top;\n",
       "    }\n",
       "\n",
       "    .dataframe thead th {\n",
       "        text-align: right;\n",
       "    }\n",
       "</style>\n",
       "<table border=\"1\" class=\"dataframe\">\n",
       "  <thead>\n",
       "    <tr style=\"text-align: right;\">\n",
       "      <th></th>\n",
       "      <th>R&amp;D Spend</th>\n",
       "      <th>Administration</th>\n",
       "      <th>Marketing Spend</th>\n",
       "      <th>State</th>\n",
       "      <th>Profit</th>\n",
       "    </tr>\n",
       "  </thead>\n",
       "  <tbody>\n",
       "    <tr>\n",
       "      <th>0</th>\n",
       "      <td>165349.20</td>\n",
       "      <td>136897.80</td>\n",
       "      <td>471784.10</td>\n",
       "      <td>New York</td>\n",
       "      <td>192261.83</td>\n",
       "    </tr>\n",
       "    <tr>\n",
       "      <th>1</th>\n",
       "      <td>162597.70</td>\n",
       "      <td>151377.59</td>\n",
       "      <td>443898.53</td>\n",
       "      <td>California</td>\n",
       "      <td>191792.06</td>\n",
       "    </tr>\n",
       "    <tr>\n",
       "      <th>2</th>\n",
       "      <td>153441.51</td>\n",
       "      <td>101145.55</td>\n",
       "      <td>407934.54</td>\n",
       "      <td>Florida</td>\n",
       "      <td>191050.39</td>\n",
       "    </tr>\n",
       "    <tr>\n",
       "      <th>3</th>\n",
       "      <td>144372.41</td>\n",
       "      <td>118671.85</td>\n",
       "      <td>383199.62</td>\n",
       "      <td>New York</td>\n",
       "      <td>182901.99</td>\n",
       "    </tr>\n",
       "    <tr>\n",
       "      <th>4</th>\n",
       "      <td>142107.34</td>\n",
       "      <td>91391.77</td>\n",
       "      <td>366168.42</td>\n",
       "      <td>Florida</td>\n",
       "      <td>166187.94</td>\n",
       "    </tr>\n",
       "  </tbody>\n",
       "</table>\n",
       "</div>"
      ],
      "text/plain": [
       "   R&D Spend  Administration  Marketing Spend       State     Profit\n",
       "0  165349.20       136897.80        471784.10    New York  192261.83\n",
       "1  162597.70       151377.59        443898.53  California  191792.06\n",
       "2  153441.51       101145.55        407934.54     Florida  191050.39\n",
       "3  144372.41       118671.85        383199.62    New York  182901.99\n",
       "4  142107.34        91391.77        366168.42     Florida  166187.94"
      ]
     },
     "execution_count": 16,
     "metadata": {},
     "output_type": "execute_result"
    }
   ],
   "source": [
    "# Load the titanic dataset using Pandas library \n",
    "df = pd.read_csv('../../data/assignment/startup_profit_dataset.csv')\n",
    "df.head()"
   ]
  },
  {
   "cell_type": "markdown",
   "metadata": {},
   "source": [
    "## Split the dataset into \"what needs to be predicted\", \"what it should learn from\"\n",
    "* \"What needs to be predicted\" - Dependent Variables, Target Variables, x\n",
    "* \"What it should learn from\" - Independent Variables, y"
   ]
  },
  {
   "cell_type": "code",
   "execution_count": 33,
   "metadata": {},
   "outputs": [],
   "source": [
    "x = df.loc[:,:'State']\n",
    "y = df['Profit']"
   ]
  },
  {
   "cell_type": "markdown",
   "metadata": {},
   "source": [
    "## Categorical Data\n",
    "* Convert textual data like States to numeric form, and then into separate columns: Ex Column California, Florida\n",
    "* Seperate Column as there is no order implied in having florida as 1 , california as 2. this should not be picked up"
   ]
  },
  {
   "cell_type": "code",
   "execution_count": 39,
   "metadata": {},
   "outputs": [
    {
     "data": {
      "text/html": [
       "<div>\n",
       "<style scoped>\n",
       "    .dataframe tbody tr th:only-of-type {\n",
       "        vertical-align: middle;\n",
       "    }\n",
       "\n",
       "    .dataframe tbody tr th {\n",
       "        vertical-align: top;\n",
       "    }\n",
       "\n",
       "    .dataframe thead th {\n",
       "        text-align: right;\n",
       "    }\n",
       "</style>\n",
       "<table border=\"1\" class=\"dataframe\">\n",
       "  <thead>\n",
       "    <tr style=\"text-align: right;\">\n",
       "      <th></th>\n",
       "      <th>R&amp;D Spend</th>\n",
       "      <th>Administration</th>\n",
       "      <th>Marketing Spend</th>\n",
       "      <th>California</th>\n",
       "      <th>New York</th>\n",
       "    </tr>\n",
       "  </thead>\n",
       "  <tbody>\n",
       "    <tr>\n",
       "      <th>0</th>\n",
       "      <td>165349.20</td>\n",
       "      <td>136897.80</td>\n",
       "      <td>471784.10</td>\n",
       "      <td>0</td>\n",
       "      <td>1</td>\n",
       "    </tr>\n",
       "    <tr>\n",
       "      <th>1</th>\n",
       "      <td>162597.70</td>\n",
       "      <td>151377.59</td>\n",
       "      <td>443898.53</td>\n",
       "      <td>1</td>\n",
       "      <td>0</td>\n",
       "    </tr>\n",
       "    <tr>\n",
       "      <th>2</th>\n",
       "      <td>153441.51</td>\n",
       "      <td>101145.55</td>\n",
       "      <td>407934.54</td>\n",
       "      <td>0</td>\n",
       "      <td>0</td>\n",
       "    </tr>\n",
       "    <tr>\n",
       "      <th>3</th>\n",
       "      <td>144372.41</td>\n",
       "      <td>118671.85</td>\n",
       "      <td>383199.62</td>\n",
       "      <td>0</td>\n",
       "      <td>1</td>\n",
       "    </tr>\n",
       "    <tr>\n",
       "      <th>4</th>\n",
       "      <td>142107.34</td>\n",
       "      <td>91391.77</td>\n",
       "      <td>366168.42</td>\n",
       "      <td>0</td>\n",
       "      <td>0</td>\n",
       "    </tr>\n",
       "  </tbody>\n",
       "</table>\n",
       "</div>"
      ],
      "text/plain": [
       "   R&D Spend  Administration  Marketing Spend  California  New York\n",
       "0  165349.20       136897.80        471784.10           0         1\n",
       "1  162597.70       151377.59        443898.53           1         0\n",
       "2  153441.51       101145.55        407934.54           0         0\n",
       "3  144372.41       118671.85        383199.62           0         1\n",
       "4  142107.34        91391.77        366168.42           0         0"
      ]
     },
     "execution_count": 39,
     "metadata": {},
     "output_type": "execute_result"
    }
   ],
   "source": [
    "# Encoding categorical data\n",
    "encoded_states = pd.get_dummies(x['State']).drop(['Florida'], axis=1)\n",
    "encoded_x = pd.concat([x.loc[:, :'Marketing Spend'], encoded_states], axis=1)\n",
    "encoded_x.head()"
   ]
  },
  {
   "cell_type": "markdown",
   "metadata": {},
   "source": [
    "## Split the dataset into training, testing set\n",
    "* Training dataset is for the Machine learning model to learn from\n",
    "* Testing dataset is for testing how accurate our Machine learning model will perform on unseen test dataset."
   ]
  },
  {
   "cell_type": "code",
   "execution_count": 40,
   "metadata": {},
   "outputs": [],
   "source": [
    "# Split the dataset into train and test, for learning from one dataset and test it on the other.\n",
    "X_train, X_test, y_train, y_test = train_test_split(\n",
    "    encoded_x, y, test_size=0.2, random_state=42)"
   ]
  },
  {
   "cell_type": "markdown",
   "metadata": {},
   "source": [
    "## Scaling the dataset\n",
    "* Scale all features, in this case 1 single feature as years of experience\n",
    "* Done to ensure all features are at the same scale, and 1 feature does not impact the algorithm diffently because of its range of values."
   ]
  },
  {
   "cell_type": "code",
   "execution_count": 41,
   "metadata": {},
   "outputs": [],
   "source": [
    "scaler = preprocessing.StandardScaler()\n",
    "X_train_scaled = scaler.fit_transform(X_train)\n",
    "X_test_scaled = scaler.transform(X_test)"
   ]
  },
  {
   "cell_type": "markdown",
   "metadata": {},
   "source": [
    "## Select the Machine Learning Model and train the same\n",
    "* Select Machine Learning Model\n",
    "    * http://scikit-learn.org/stable/modules/ensemble.html#regression\n",
    "    * http://scikit-learn.org/stable/modules/generated/sklearn.neural_network.MLPRegressor.html#sklearn.neural_network.MLPRegressor\n",
    "    * http://scikit-learn.org/stable/modules/tree.html#regression\n",
    "    * http://scikit-learn.org/stable/modules/generated/sklearn.linear_model.SGDRegressor.html#sklearn.linear_model.SGDRegressor\n",
    "    * http://scikit-learn.org/stable/modules/generated/sklearn.svm.LinearSVR.html#sklearn.svm.LinearSVR\n",
    "    * http://scikit-learn.org/stable/modules/linear_model.html#ridge-regression\n",
    "* Train the Machine Learning Model, run the fit method with the training data\n"
   ]
  },
  {
   "cell_type": "code",
   "execution_count": 42,
   "metadata": {},
   "outputs": [
    {
     "data": {
      "text/plain": [
       "LinearRegression(copy_X=True, fit_intercept=True, n_jobs=1, normalize=False)"
      ]
     },
     "execution_count": 42,
     "metadata": {},
     "output_type": "execute_result"
    }
   ],
   "source": [
    "# Try out other models, and improve accuracy\n",
    "regressor = LinearRegression()\n",
    "regressor.fit(X_train_scaled, y_train)"
   ]
  },
  {
   "cell_type": "markdown",
   "metadata": {},
   "source": [
    "## Evaluate the model for accuracy\n",
    "* Obtain Root Mean Squared Error\n",
    "* Smaller the Root Mean Squared Error the better (Improve Accuracy by reducing your error less than 9055)"
   ]
  },
  {
   "cell_type": "code",
   "execution_count": 43,
   "metadata": {},
   "outputs": [
    {
     "name": "stdout",
     "output_type": "stream",
     "text": [
      "Root Mean Squared Error Linear Regression Model: 9055.96\n"
     ]
    }
   ],
   "source": [
    "from math import sqrt\n",
    "from sklearn.metrics import mean_squared_error\n",
    "print(\"Root Mean Squared Error Linear Regression Model: {:.2f}\".format(\n",
    "    sqrt(mean_squared_error(y_test.values, regressor.predict(X_test_scaled)))\n",
    "))"
   ]
  },
  {
   "cell_type": "code",
   "execution_count": 49,
   "metadata": {},
   "outputs": [],
   "source": [
    "def build_graph(column_interested, output_column):\n",
    "    plot1 = go.Scatter(\n",
    "        x = X_train[column_interested].values,\n",
    "        y = y_train.values,\n",
    "        name='Training Data',\n",
    "        mode='markers',\n",
    "        connectgaps=True\n",
    "    )\n",
    "\n",
    "    plot2 = go.Scatter(\n",
    "        x = X_train[column_interested].values,\n",
    "        y = regressor.predict(X_train_scaled),\n",
    "        name='Model Prediction',\n",
    "        connectgaps=True,\n",
    "        mode='markers'\n",
    "    )\n",
    "\n",
    "    fig = dict(data=[plot1, plot2], layout=dict(\n",
    "        title='{} vs {}'.format(output_column, column_interested),\n",
    "        xaxis=dict(title=column_interested),\n",
    "        yaxis=dict(title=output_column)))\n",
    "    return fig"
   ]
  },
  {
   "cell_type": "code",
   "execution_count": 50,
   "metadata": {},
   "outputs": [
    {
     "data": {
      "application/vnd.plotly.v1+json": {
       "data": [
        {
         "connectgaps": true,
         "mode": "markers",
         "name": "Training Data",
         "type": "scatter",
         "x": [
          93863.75,
          142107.34,
          44069.95,
          120542.52,
          144372.41,
          134615.46,
          27892.92,
          1315.46,
          0,
          114523.61,
          123334.88,
          78013.11,
          77044.01,
          46426.07,
          61136.38,
          165349.2,
          22177.74,
          72107.6,
          55493.95,
          131876.9,
          65605.48,
          100671.96,
          28663.76,
          162597.7,
          78389.47,
          153441.51,
          15505.73,
          46014.02,
          67532.53,
          28754.33,
          101913.08,
          73994.56,
          91749.16,
          0,
          76253.86,
          130298.13,
          23640.93,
          119943.24,
          66051.52,
          20229.59
         ],
         "y": [
          141585.52,
          166187.94,
          89949.14,
          152211.77,
          182901.99,
          156122.51,
          77798.83,
          49490.75,
          42559.73,
          129917.04,
          149759.96,
          126992.93,
          108552.04,
          96712.8,
          97483.56,
          192261.83,
          65200.33,
          105008.31,
          96778.92,
          156991.12,
          101004.64,
          144259.4,
          90708.19,
          191792.06,
          111313.02,
          191050.39,
          69758.98,
          96479.51,
          108733.99,
          78239.91,
          146121.95,
          110352.25,
          124266.9,
          14681.4,
          118474.03,
          155752.6,
          71498.49,
          132602.65,
          103282.38,
          81229.06
         ]
        },
        {
         "connectgaps": true,
         "mode": "markers",
         "name": "Model Prediction",
         "type": "scatter",
         "x": [
          93863.75,
          142107.34,
          44069.95,
          120542.52,
          144372.41,
          134615.46,
          27892.92,
          1315.46,
          0,
          114523.61,
          123334.88,
          78013.11,
          77044.01,
          46426.07,
          61136.38,
          165349.2,
          22177.74,
          72107.6,
          55493.95,
          131876.9,
          65605.48,
          100671.96,
          28663.76,
          162597.7,
          78389.47,
          153441.51,
          15505.73,
          46014.02,
          67532.53,
          28754.33,
          101913.08,
          73994.56,
          91749.16,
          0,
          76253.86,
          130298.13,
          23640.93,
          119943.24,
          66051.52,
          20229.59
         ],
         "y": [
          129287.25932267804,
          174098.25202606135,
          91886.85822604492,
          150220.9965901075,
          173623.19035615693,
          156165.8448994733,
          76521.47893716863,
          56930.33870602287,
          44712.3085635,
          145679.58311301895,
          155019.87822287204,
          116405.47712512723,
          113471.5681270068,
          86876.30432577438,
          95418.08570234635,
          191913.72740380428,
          62092.252764424265,
          113876.00520370889,
          98993.33790341651,
          164246.36680458247,
          99560.68684704922,
          136274.54962585936,
          75324.02207350094,
          187861.47839007148,
          115558.98201737182,
          183805.40426664636,
          58825.43932911285,
          91390.8920980214,
          111197.68506734035,
          74197.75183475012,
          136305.24077729846,
          115188.84018873623,
          129833.75780392006,
          47329.633445387284,
          116544.51129346137,
          159597.70047228783,
          70875.84128325412,
          148486.4540273908,
          99143.48842753195,
          71327.34640771273
         ]
        }
       ],
       "layout": {
        "title": "Profit vs R&D Spend",
        "xaxis": {
         "title": "R&D Spend"
        },
        "yaxis": {
         "title": "Profit"
        }
       }
      },
      "text/html": [
       "<div id=\"2d79f18d-110d-4fa5-8219-3adb72b0acec\" style=\"height: 525px; width: 100%;\" class=\"plotly-graph-div\"></div><script type=\"text/javascript\">require([\"plotly\"], function(Plotly) { window.PLOTLYENV=window.PLOTLYENV || {};window.PLOTLYENV.BASE_URL=\"https://plot.ly\";Plotly.newPlot(\"2d79f18d-110d-4fa5-8219-3adb72b0acec\", [{\"type\": \"scatter\", \"x\": [93863.75, 142107.34, 44069.95, 120542.52, 144372.41, 134615.46, 27892.92, 1315.46, 0.0, 114523.61, 123334.88, 78013.11, 77044.01, 46426.07, 61136.38, 165349.2, 22177.74, 72107.6, 55493.95, 131876.9, 65605.48, 100671.96, 28663.76, 162597.7, 78389.47, 153441.51, 15505.73, 46014.02, 67532.53, 28754.33, 101913.08, 73994.56, 91749.16, 0.0, 76253.86, 130298.13, 23640.93, 119943.24, 66051.52, 20229.59], \"y\": [141585.52, 166187.94, 89949.14, 152211.77, 182901.99, 156122.51, 77798.83, 49490.75, 42559.73, 129917.04, 149759.96, 126992.93, 108552.04, 96712.8, 97483.56, 192261.83, 65200.33, 105008.31, 96778.92, 156991.12, 101004.64, 144259.4, 90708.19, 191792.06, 111313.02, 191050.39, 69758.98, 96479.51, 108733.99, 78239.91, 146121.95, 110352.25, 124266.9, 14681.4, 118474.03, 155752.6, 71498.49, 132602.65, 103282.38, 81229.06], \"name\": \"Training Data\", \"mode\": \"markers\", \"connectgaps\": true}, {\"type\": \"scatter\", \"x\": [93863.75, 142107.34, 44069.95, 120542.52, 144372.41, 134615.46, 27892.92, 1315.46, 0.0, 114523.61, 123334.88, 78013.11, 77044.01, 46426.07, 61136.38, 165349.2, 22177.74, 72107.6, 55493.95, 131876.9, 65605.48, 100671.96, 28663.76, 162597.7, 78389.47, 153441.51, 15505.73, 46014.02, 67532.53, 28754.33, 101913.08, 73994.56, 91749.16, 0.0, 76253.86, 130298.13, 23640.93, 119943.24, 66051.52, 20229.59], \"y\": [129287.25932267804, 174098.25202606135, 91886.85822604492, 150220.9965901075, 173623.19035615693, 156165.8448994733, 76521.47893716863, 56930.33870602287, 44712.3085635, 145679.58311301895, 155019.87822287204, 116405.47712512723, 113471.5681270068, 86876.30432577438, 95418.08570234635, 191913.72740380428, 62092.252764424265, 113876.00520370889, 98993.33790341651, 164246.36680458247, 99560.68684704922, 136274.54962585936, 75324.02207350094, 187861.47839007148, 115558.98201737182, 183805.40426664636, 58825.43932911285, 91390.8920980214, 111197.68506734035, 74197.75183475012, 136305.24077729846, 115188.84018873623, 129833.75780392006, 47329.633445387284, 116544.51129346137, 159597.70047228783, 70875.84128325412, 148486.4540273908, 99143.48842753195, 71327.34640771273], \"name\": \"Model Prediction\", \"mode\": \"markers\", \"connectgaps\": true}], {\"xaxis\": {\"title\": \"R&D Spend\"}, \"yaxis\": {\"title\": \"Profit\"}, \"title\": \"Profit vs R&D Spend\"}, {\"linkText\": \"Export to plot.ly\", \"showLink\": true})});</script>"
      ],
      "text/vnd.plotly.v1+html": [
       "<div id=\"2d79f18d-110d-4fa5-8219-3adb72b0acec\" style=\"height: 525px; width: 100%;\" class=\"plotly-graph-div\"></div><script type=\"text/javascript\">require([\"plotly\"], function(Plotly) { window.PLOTLYENV=window.PLOTLYENV || {};window.PLOTLYENV.BASE_URL=\"https://plot.ly\";Plotly.newPlot(\"2d79f18d-110d-4fa5-8219-3adb72b0acec\", [{\"type\": \"scatter\", \"x\": [93863.75, 142107.34, 44069.95, 120542.52, 144372.41, 134615.46, 27892.92, 1315.46, 0.0, 114523.61, 123334.88, 78013.11, 77044.01, 46426.07, 61136.38, 165349.2, 22177.74, 72107.6, 55493.95, 131876.9, 65605.48, 100671.96, 28663.76, 162597.7, 78389.47, 153441.51, 15505.73, 46014.02, 67532.53, 28754.33, 101913.08, 73994.56, 91749.16, 0.0, 76253.86, 130298.13, 23640.93, 119943.24, 66051.52, 20229.59], \"y\": [141585.52, 166187.94, 89949.14, 152211.77, 182901.99, 156122.51, 77798.83, 49490.75, 42559.73, 129917.04, 149759.96, 126992.93, 108552.04, 96712.8, 97483.56, 192261.83, 65200.33, 105008.31, 96778.92, 156991.12, 101004.64, 144259.4, 90708.19, 191792.06, 111313.02, 191050.39, 69758.98, 96479.51, 108733.99, 78239.91, 146121.95, 110352.25, 124266.9, 14681.4, 118474.03, 155752.6, 71498.49, 132602.65, 103282.38, 81229.06], \"name\": \"Training Data\", \"mode\": \"markers\", \"connectgaps\": true}, {\"type\": \"scatter\", \"x\": [93863.75, 142107.34, 44069.95, 120542.52, 144372.41, 134615.46, 27892.92, 1315.46, 0.0, 114523.61, 123334.88, 78013.11, 77044.01, 46426.07, 61136.38, 165349.2, 22177.74, 72107.6, 55493.95, 131876.9, 65605.48, 100671.96, 28663.76, 162597.7, 78389.47, 153441.51, 15505.73, 46014.02, 67532.53, 28754.33, 101913.08, 73994.56, 91749.16, 0.0, 76253.86, 130298.13, 23640.93, 119943.24, 66051.52, 20229.59], \"y\": [129287.25932267804, 174098.25202606135, 91886.85822604492, 150220.9965901075, 173623.19035615693, 156165.8448994733, 76521.47893716863, 56930.33870602287, 44712.3085635, 145679.58311301895, 155019.87822287204, 116405.47712512723, 113471.5681270068, 86876.30432577438, 95418.08570234635, 191913.72740380428, 62092.252764424265, 113876.00520370889, 98993.33790341651, 164246.36680458247, 99560.68684704922, 136274.54962585936, 75324.02207350094, 187861.47839007148, 115558.98201737182, 183805.40426664636, 58825.43932911285, 91390.8920980214, 111197.68506734035, 74197.75183475012, 136305.24077729846, 115188.84018873623, 129833.75780392006, 47329.633445387284, 116544.51129346137, 159597.70047228783, 70875.84128325412, 148486.4540273908, 99143.48842753195, 71327.34640771273], \"name\": \"Model Prediction\", \"mode\": \"markers\", \"connectgaps\": true}], {\"xaxis\": {\"title\": \"R&D Spend\"}, \"yaxis\": {\"title\": \"Profit\"}, \"title\": \"Profit vs R&D Spend\"}, {\"linkText\": \"Export to plot.ly\", \"showLink\": true})});</script>"
      ]
     },
     "metadata": {},
     "output_type": "display_data"
    }
   ],
   "source": [
    "iplot(build_graph('R&D Spend', 'Profit'))"
   ]
  },
  {
   "cell_type": "code",
   "execution_count": 52,
   "metadata": {},
   "outputs": [
    {
     "data": {
      "application/vnd.plotly.v1+json": {
       "data": [
        {
         "connectgaps": true,
         "mode": "markers",
         "name": "Training Data",
         "type": "scatter",
         "x": [
          249839.44,
          366168.42,
          197029.42,
          311613.29,
          383199.62,
          127716.82,
          164470.71,
          297114.46,
          0,
          261776.23,
          304981.62,
          264346.06,
          140574.81,
          210797.67,
          88218.23,
          471784.1,
          28334.72,
          353183.81,
          214634.81,
          362861.36,
          107138.38,
          249744.55,
          201126.82,
          443898.53,
          299737.29,
          407934.54,
          35534.17,
          205517.64,
          304768.73,
          172795.67,
          229160.95,
          303319.26,
          294919.57,
          45173.06,
          298664.47,
          323876.68,
          148001.11,
          256512.92,
          118148.2,
          185265.1
         ],
         "y": [
          141585.52,
          166187.94,
          89949.14,
          152211.77,
          182901.99,
          156122.51,
          77798.83,
          49490.75,
          42559.73,
          129917.04,
          149759.96,
          126992.93,
          108552.04,
          96712.8,
          97483.56,
          192261.83,
          65200.33,
          105008.31,
          96778.92,
          156991.12,
          101004.64,
          144259.4,
          90708.19,
          191792.06,
          111313.02,
          191050.39,
          69758.98,
          96479.51,
          108733.99,
          78239.91,
          146121.95,
          110352.25,
          124266.9,
          14681.4,
          118474.03,
          155752.6,
          71498.49,
          132602.65,
          103282.38,
          81229.06
         ]
        },
        {
         "connectgaps": true,
         "mode": "markers",
         "name": "Model Prediction",
         "type": "scatter",
         "x": [
          249839.44,
          366168.42,
          197029.42,
          311613.29,
          383199.62,
          127716.82,
          164470.71,
          297114.46,
          0,
          261776.23,
          304981.62,
          264346.06,
          140574.81,
          210797.67,
          88218.23,
          471784.1,
          28334.72,
          353183.81,
          214634.81,
          362861.36,
          107138.38,
          249744.55,
          201126.82,
          443898.53,
          299737.29,
          407934.54,
          35534.17,
          205517.64,
          304768.73,
          172795.67,
          229160.95,
          303319.26,
          294919.57,
          45173.06,
          298664.47,
          323876.68,
          148001.11,
          256512.92,
          118148.2,
          185265.1
         ],
         "y": [
          129287.25932267804,
          174098.25202606135,
          91886.85822604492,
          150220.9965901075,
          173623.19035615693,
          156165.8448994733,
          76521.47893716863,
          56930.33870602287,
          44712.3085635,
          145679.58311301895,
          155019.87822287204,
          116405.47712512723,
          113471.5681270068,
          86876.30432577438,
          95418.08570234635,
          191913.72740380428,
          62092.252764424265,
          113876.00520370889,
          98993.33790341651,
          164246.36680458247,
          99560.68684704922,
          136274.54962585936,
          75324.02207350094,
          187861.47839007148,
          115558.98201737182,
          183805.40426664636,
          58825.43932911285,
          91390.8920980214,
          111197.68506734035,
          74197.75183475012,
          136305.24077729846,
          115188.84018873623,
          129833.75780392006,
          47329.633445387284,
          116544.51129346137,
          159597.70047228783,
          70875.84128325412,
          148486.4540273908,
          99143.48842753195,
          71327.34640771273
         ]
        }
       ],
       "layout": {
        "title": "Profit vs Marketing Spend",
        "xaxis": {
         "title": "Marketing Spend"
        },
        "yaxis": {
         "title": "Profit"
        }
       }
      },
      "text/html": [
       "<div id=\"985ae724-76a3-488a-a2eb-f4af5a43fc56\" style=\"height: 525px; width: 100%;\" class=\"plotly-graph-div\"></div><script type=\"text/javascript\">require([\"plotly\"], function(Plotly) { window.PLOTLYENV=window.PLOTLYENV || {};window.PLOTLYENV.BASE_URL=\"https://plot.ly\";Plotly.newPlot(\"985ae724-76a3-488a-a2eb-f4af5a43fc56\", [{\"type\": \"scatter\", \"x\": [249839.44, 366168.42, 197029.42, 311613.29, 383199.62, 127716.82, 164470.71, 297114.46, 0.0, 261776.23, 304981.62, 264346.06, 140574.81, 210797.67, 88218.23, 471784.1, 28334.72, 353183.81, 214634.81, 362861.36, 107138.38, 249744.55, 201126.82, 443898.53, 299737.29, 407934.54, 35534.17, 205517.64, 304768.73, 172795.67, 229160.95, 303319.26, 294919.57, 45173.06, 298664.47, 323876.68, 148001.11, 256512.92, 118148.2, 185265.1], \"y\": [141585.52, 166187.94, 89949.14, 152211.77, 182901.99, 156122.51, 77798.83, 49490.75, 42559.73, 129917.04, 149759.96, 126992.93, 108552.04, 96712.8, 97483.56, 192261.83, 65200.33, 105008.31, 96778.92, 156991.12, 101004.64, 144259.4, 90708.19, 191792.06, 111313.02, 191050.39, 69758.98, 96479.51, 108733.99, 78239.91, 146121.95, 110352.25, 124266.9, 14681.4, 118474.03, 155752.6, 71498.49, 132602.65, 103282.38, 81229.06], \"name\": \"Training Data\", \"mode\": \"markers\", \"connectgaps\": true}, {\"type\": \"scatter\", \"x\": [249839.44, 366168.42, 197029.42, 311613.29, 383199.62, 127716.82, 164470.71, 297114.46, 0.0, 261776.23, 304981.62, 264346.06, 140574.81, 210797.67, 88218.23, 471784.1, 28334.72, 353183.81, 214634.81, 362861.36, 107138.38, 249744.55, 201126.82, 443898.53, 299737.29, 407934.54, 35534.17, 205517.64, 304768.73, 172795.67, 229160.95, 303319.26, 294919.57, 45173.06, 298664.47, 323876.68, 148001.11, 256512.92, 118148.2, 185265.1], \"y\": [129287.25932267804, 174098.25202606135, 91886.85822604492, 150220.9965901075, 173623.19035615693, 156165.8448994733, 76521.47893716863, 56930.33870602287, 44712.3085635, 145679.58311301895, 155019.87822287204, 116405.47712512723, 113471.5681270068, 86876.30432577438, 95418.08570234635, 191913.72740380428, 62092.252764424265, 113876.00520370889, 98993.33790341651, 164246.36680458247, 99560.68684704922, 136274.54962585936, 75324.02207350094, 187861.47839007148, 115558.98201737182, 183805.40426664636, 58825.43932911285, 91390.8920980214, 111197.68506734035, 74197.75183475012, 136305.24077729846, 115188.84018873623, 129833.75780392006, 47329.633445387284, 116544.51129346137, 159597.70047228783, 70875.84128325412, 148486.4540273908, 99143.48842753195, 71327.34640771273], \"name\": \"Model Prediction\", \"mode\": \"markers\", \"connectgaps\": true}], {\"xaxis\": {\"title\": \"Marketing Spend\"}, \"yaxis\": {\"title\": \"Profit\"}, \"title\": \"Profit vs Marketing Spend\"}, {\"linkText\": \"Export to plot.ly\", \"showLink\": true})});</script>"
      ],
      "text/vnd.plotly.v1+html": [
       "<div id=\"985ae724-76a3-488a-a2eb-f4af5a43fc56\" style=\"height: 525px; width: 100%;\" class=\"plotly-graph-div\"></div><script type=\"text/javascript\">require([\"plotly\"], function(Plotly) { window.PLOTLYENV=window.PLOTLYENV || {};window.PLOTLYENV.BASE_URL=\"https://plot.ly\";Plotly.newPlot(\"985ae724-76a3-488a-a2eb-f4af5a43fc56\", [{\"type\": \"scatter\", \"x\": [249839.44, 366168.42, 197029.42, 311613.29, 383199.62, 127716.82, 164470.71, 297114.46, 0.0, 261776.23, 304981.62, 264346.06, 140574.81, 210797.67, 88218.23, 471784.1, 28334.72, 353183.81, 214634.81, 362861.36, 107138.38, 249744.55, 201126.82, 443898.53, 299737.29, 407934.54, 35534.17, 205517.64, 304768.73, 172795.67, 229160.95, 303319.26, 294919.57, 45173.06, 298664.47, 323876.68, 148001.11, 256512.92, 118148.2, 185265.1], \"y\": [141585.52, 166187.94, 89949.14, 152211.77, 182901.99, 156122.51, 77798.83, 49490.75, 42559.73, 129917.04, 149759.96, 126992.93, 108552.04, 96712.8, 97483.56, 192261.83, 65200.33, 105008.31, 96778.92, 156991.12, 101004.64, 144259.4, 90708.19, 191792.06, 111313.02, 191050.39, 69758.98, 96479.51, 108733.99, 78239.91, 146121.95, 110352.25, 124266.9, 14681.4, 118474.03, 155752.6, 71498.49, 132602.65, 103282.38, 81229.06], \"name\": \"Training Data\", \"mode\": \"markers\", \"connectgaps\": true}, {\"type\": \"scatter\", \"x\": [249839.44, 366168.42, 197029.42, 311613.29, 383199.62, 127716.82, 164470.71, 297114.46, 0.0, 261776.23, 304981.62, 264346.06, 140574.81, 210797.67, 88218.23, 471784.1, 28334.72, 353183.81, 214634.81, 362861.36, 107138.38, 249744.55, 201126.82, 443898.53, 299737.29, 407934.54, 35534.17, 205517.64, 304768.73, 172795.67, 229160.95, 303319.26, 294919.57, 45173.06, 298664.47, 323876.68, 148001.11, 256512.92, 118148.2, 185265.1], \"y\": [129287.25932267804, 174098.25202606135, 91886.85822604492, 150220.9965901075, 173623.19035615693, 156165.8448994733, 76521.47893716863, 56930.33870602287, 44712.3085635, 145679.58311301895, 155019.87822287204, 116405.47712512723, 113471.5681270068, 86876.30432577438, 95418.08570234635, 191913.72740380428, 62092.252764424265, 113876.00520370889, 98993.33790341651, 164246.36680458247, 99560.68684704922, 136274.54962585936, 75324.02207350094, 187861.47839007148, 115558.98201737182, 183805.40426664636, 58825.43932911285, 91390.8920980214, 111197.68506734035, 74197.75183475012, 136305.24077729846, 115188.84018873623, 129833.75780392006, 47329.633445387284, 116544.51129346137, 159597.70047228783, 70875.84128325412, 148486.4540273908, 99143.48842753195, 71327.34640771273], \"name\": \"Model Prediction\", \"mode\": \"markers\", \"connectgaps\": true}], {\"xaxis\": {\"title\": \"Marketing Spend\"}, \"yaxis\": {\"title\": \"Profit\"}, \"title\": \"Profit vs Marketing Spend\"}, {\"linkText\": \"Export to plot.ly\", \"showLink\": true})});</script>"
      ]
     },
     "metadata": {},
     "output_type": "display_data"
    }
   ],
   "source": [
    "iplot(build_graph('Marketing Spend', 'Profit'))"
   ]
  }
 ],
 "metadata": {
  "kernelspec": {
   "display_name": "Python 3",
   "language": "python",
   "name": "python3"
  },
  "language_info": {
   "codemirror_mode": {
    "name": "ipython",
    "version": 3
   },
   "file_extension": ".py",
   "mimetype": "text/x-python",
   "name": "python",
   "nbconvert_exporter": "python",
   "pygments_lexer": "ipython3",
   "version": "3.5.2"
  }
 },
 "nbformat": 4,
 "nbformat_minor": 2
}
