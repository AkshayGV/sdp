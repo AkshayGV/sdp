{
 "cells": [
  {
   "cell_type": "markdown",
   "metadata": {},
   "source": [
    "## Clustering mall customers\n",
    "\n",
    "This project deals with clustering mall customers into two different groups based on attributes such as spending power.\n",
    "\n",
    "### Instructions\n",
    "* There follows a series of questions and tasks.\n",
    "* Answer the questions by double clicking on the cell right after the question and type in your answer.\n",
    "* Wherever you see a comment that says \"TODO\", you will have to fill it in with code as guided by the comment.\n"
   ]
  },
  {
   "cell_type": "markdown",
   "metadata": {},
   "source": [
    "**Question**: Enter the names of the students in your team."
   ]
  },
  {
   "cell_type": "markdown",
   "metadata": {},
   "source": [
    "**Answer**: "
   ]
  },
  {
   "cell_type": "markdown",
   "metadata": {},
   "source": [
    "### Clone the workshop repository to get the data sets"
   ]
  },
  {
   "cell_type": "code",
   "execution_count": null,
   "metadata": {
    "collapsed": false
   },
   "outputs": [],
   "source": [
    "!git clone https://github.com/KshitijKarthick/reva_ml_workshop"
   ]
  },
  {
   "cell_type": "markdown",
   "metadata": {},
   "source": [
    "* Import libraries needed.\n",
    "* Libraries for\n",
    "    * Data Analysis - Numpy, Pandas\n",
    "    * Machine Learning Libraries - Sklearn\n",
    "    * Data Visualization - Plotly"
   ]
  },
  {
   "cell_type": "code",
   "execution_count": null,
   "metadata": {
    "collapsed": true
   },
   "outputs": [],
   "source": [
    "# Import all dependencies required for the problem.\n",
    "from __future__ import print_function\n",
    "from plotly.offline import iplot, init_notebook_mode\n",
    "\n",
    "import numpy as np\n",
    "import pandas as pd\n",
    "import plotly.graph_objs as go\n",
    "import matplotlib.pyplot as plt\n",
    "\n",
    "from sklearn import preprocessing\n",
    "from sklearn.cluster import KMeans\n",
    "from sklearn.model_selection import train_test_split"
   ]
  },
  {
   "cell_type": "code",
   "execution_count": null,
   "metadata": {
    "collapsed": false
   },
   "outputs": [],
   "source": [
    "# Set a Seed for random number generation for reproducible results\n",
    "init_notebook_mode(connected=True)\n",
    "RANDOM_SEED = 42\n",
    "np.random.seed(RANDOM_SEED)"
   ]
  },
  {
   "cell_type": "markdown",
   "metadata": {},
   "source": [
    "## Load and preview the Dataset\n",
    "\n",
    "* Read the dataset from the required format.\n",
    "* Preview the dataset which is loaded"
   ]
  },
  {
   "cell_type": "code",
   "execution_count": null,
   "metadata": {
    "collapsed": false
   },
   "outputs": [],
   "source": [
    "# Load the titanic dataset using Pandas library \n",
    "df = pd.read_csv('reva_ml_workshop/data/assignment/mall_customers.csv')\n",
    "# TODO call df.head function to preview the data set"
   ]
  },
  {
   "cell_type": "markdown",
   "metadata": {},
   "source": [
    "**Question**: List the column names of the dataset, the type of variable (Categorical or Measurement) and what each column means."
   ]
  },
  {
   "cell_type": "markdown",
   "metadata": {},
   "source": [
    "**Answer**: "
   ]
  },
  {
   "cell_type": "markdown",
   "metadata": {},
   "source": [
    "## Select columns from the data which are to be used for clustering"
   ]
  },
  {
   "cell_type": "code",
   "execution_count": null,
   "metadata": {
    "collapsed": true
   },
   "outputs": [],
   "source": [
    "X = df.iloc[:,3:].values"
   ]
  },
  {
   "cell_type": "markdown",
   "metadata": {},
   "source": [
    "## Let's train a K-means clustering model\n",
    "Example and documentation: http://scikit-learn.org/stable/modules/generated/sklearn.cluster.KMeans.html\n",
    "\n",
    "Read the link to answer the question"
   ]
  },
  {
   "cell_type": "markdown",
   "metadata": {},
   "source": [
    "**Question**: What does the fit_predict function in the kmeans model do?"
   ]
  },
  {
   "cell_type": "markdown",
   "metadata": {},
   "source": [
    "**Answer**:"
   ]
  },
  {
   "cell_type": "code",
   "execution_count": null,
   "metadata": {
    "collapsed": false
   },
   "outputs": [],
   "source": [
    "num_clusters = 2\n",
    "kmeans = KMeans(n_clusters=num_clusters, random_state=42)\n",
    "\n",
    "# TODO call kmeans.fit_predict function with X as argument and assign the result to y_kmeans \n",
    "y_kmeans = "
   ]
  },
  {
   "cell_type": "markdown",
   "metadata": {},
   "source": [
    "## Plot the clusters and look at centroids\n",
    "* Obtain the Sum of squared errors.\n",
    "* Smaller the Sum of squared errors the better (Improve Accuracy by reducing your error less than 181363)\n",
    "* But increasing the number of clusters will always reduce the error rate as eventually each node becomes a cluster.\n",
    "* So have a look at the plot to also see when the clusters seem close and well made than just increasing the clusters."
   ]
  },
  {
   "cell_type": "code",
   "execution_count": null,
   "metadata": {
    "collapsed": false
   },
   "outputs": [],
   "source": [
    "color_list = ['b', 'g', 'r', 'c', 'm', 'y', 'k', 'w']\n",
    "for i in range(num_clusters):\n",
    "    plt.scatter(X[y_kmeans == i, 0], X[y_kmeans == i, 1], s = 100, c = color_list[i], label = 'Cluster {}'.format(i + 1))\n",
    "plt.scatter(kmeans.cluster_centers_[:, 0], kmeans.cluster_centers_[:, 1], s = 300, c = 'yellow', label = 'Centroids')\n",
    "plt.title('Clusters of customers')\n",
    "plt.xlabel('Annual Income (k$)')\n",
    "plt.ylabel('Spending Score (1-100)')\n",
    "plt.legend()\n",
    "plt.show()\n",
    "print(\"Sum of squared distances: {}\".format(kmeans.inertia_))"
   ]
  },
  {
   "cell_type": "markdown",
   "metadata": {},
   "source": [
    "### Use the DB Scan clustering algorithm to cluster the same data set\n",
    "Documentation and example: http://scikit-learn.org/stable/auto_examples/cluster/plot_dbscan.html#sphx-glr-auto-examples-cluster-plot-dbscan-py\n",
    "\n",
    "**NOTE**: The example creates it's own dataset using the make_blobs function. Skip this step in your implementation."
   ]
  },
  {
   "cell_type": "code",
   "execution_count": null,
   "metadata": {
    "collapsed": true
   },
   "outputs": [],
   "source": [
    "%matplotlib inline\n",
    "# TODO"
   ]
  },
  {
   "cell_type": "markdown",
   "metadata": {},
   "source": [
    "**Question**: What is the number clusters obtained from dbscan?"
   ]
  },
  {
   "cell_type": "markdown",
   "metadata": {},
   "source": [
    "**Answer**: "
   ]
  },
  {
   "cell_type": "markdown",
   "metadata": {},
   "source": [
    "### What to do after completing the assignment\n",
    "* Press ctrl+s to save your progress\n",
    "* Click on 'share' at the top right corner.\n",
    "* Enter these two email ids *upman16@gmail.com* and *kshitij.karthick@gmail.com*\n",
    "* Click on done."
   ]
  }
 ],
 "metadata": {
  "kernelspec": {
   "display_name": "Python 3",
   "language": "python",
   "name": "python3"
  },
  "language_info": {
   "codemirror_mode": {
    "name": "ipython",
    "version": 3
   },
   "file_extension": ".py",
   "mimetype": "text/x-python",
   "name": "python",
   "nbconvert_exporter": "python",
   "pygments_lexer": "ipython3",
   "version": "3.5.2"
  }
 },
 "nbformat": 4,
 "nbformat_minor": 2
}
